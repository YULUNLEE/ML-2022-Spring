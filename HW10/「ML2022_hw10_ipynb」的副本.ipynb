{
  "cells": [
    {
      "cell_type": "markdown",
      "metadata": {
        "id": "Q-n2e0BkhEKS"
      },
      "source": [
        "# **Homework 10 - Adversarial Attack**\n",
        "\n",
        "Slides: https://reurl.cc/7DDxnD\n",
        "\n",
        "Contact: ntu-ml-2022spring-ta@googlegroups.com\n"
      ]
    },
    {
      "cell_type": "markdown",
      "metadata": {
        "id": "9RX7iRXrhMA_"
      },
      "source": [
        "## Enviroment & Download\n",
        "\n",
        "We make use of [pytorchcv](https://pypi.org/project/pytorchcv/) to obtain CIFAR-10 pretrained model, so we need to set up the enviroment first. We also need to download the data (200 images) which we want to attack."
      ]
    },
    {
      "cell_type": "code",
      "execution_count": null,
      "metadata": {
        "id": "d4Lw7urignqP",
        "colab": {
          "base_uri": "https://localhost:8080/"
        },
        "outputId": "7e76bcc1-49cf-44ce-b8e4-b1549dc30851"
      },
      "outputs": [
        {
          "output_type": "stream",
          "name": "stdout",
          "text": [
            "Mounted at /content/drive\n",
            "['ifgsm', 'fgsm', 'data', 'mifgsm', 'ifgsm_0.2', 'ifgsm_0.2.tgz', 'ifgsm.tgz', 'mifgsm_0.13.tgz', 'mifgsm_0.13', 'DI-mifgsm_0.11.tgz', 'DI-mifgsm_0.11', 'DI_mifgsm_0.07.tgz', 'mifgsm.tgz']\n",
            "Collecting pytorchcv\n",
            "  Downloading pytorchcv-0.0.67-py2.py3-none-any.whl (532 kB)\n",
            "\u001b[K     |████████████████████████████████| 532 kB 7.2 MB/s \n",
            "\u001b[?25hRequirement already satisfied: requests in /usr/local/lib/python3.7/dist-packages (from pytorchcv) (2.23.0)\n",
            "Requirement already satisfied: numpy in /usr/local/lib/python3.7/dist-packages (from pytorchcv) (1.21.6)\n",
            "Requirement already satisfied: certifi>=2017.4.17 in /usr/local/lib/python3.7/dist-packages (from requests->pytorchcv) (2021.10.8)\n",
            "Requirement already satisfied: urllib3!=1.25.0,!=1.25.1,<1.26,>=1.21.1 in /usr/local/lib/python3.7/dist-packages (from requests->pytorchcv) (1.24.3)\n",
            "Requirement already satisfied: chardet<4,>=3.0.2 in /usr/local/lib/python3.7/dist-packages (from requests->pytorchcv) (3.0.4)\n",
            "Requirement already satisfied: idna<3,>=2.5 in /usr/local/lib/python3.7/dist-packages (from requests->pytorchcv) (2.10)\n",
            "Installing collected packages: pytorchcv\n",
            "Successfully installed pytorchcv-0.0.67\n",
            "Requirement already satisfied: imgaug in /usr/local/lib/python3.7/dist-packages (0.2.9)\n",
            "Requirement already satisfied: scikit-image>=0.11.0 in /usr/local/lib/python3.7/dist-packages (from imgaug) (0.18.3)\n",
            "Requirement already satisfied: Shapely in /usr/local/lib/python3.7/dist-packages (from imgaug) (1.8.1.post1)\n",
            "Requirement already satisfied: numpy>=1.15.0 in /usr/local/lib/python3.7/dist-packages (from imgaug) (1.21.6)\n",
            "Requirement already satisfied: opencv-python in /usr/local/lib/python3.7/dist-packages (from imgaug) (4.1.2.30)\n",
            "Requirement already satisfied: matplotlib in /usr/local/lib/python3.7/dist-packages (from imgaug) (3.2.2)\n",
            "Requirement already satisfied: Pillow in /usr/local/lib/python3.7/dist-packages (from imgaug) (7.1.2)\n",
            "Requirement already satisfied: scipy in /usr/local/lib/python3.7/dist-packages (from imgaug) (1.4.1)\n",
            "Requirement already satisfied: imageio in /usr/local/lib/python3.7/dist-packages (from imgaug) (2.4.1)\n",
            "Requirement already satisfied: six in /usr/local/lib/python3.7/dist-packages (from imgaug) (1.15.0)\n",
            "Requirement already satisfied: networkx>=2.0 in /usr/local/lib/python3.7/dist-packages (from scikit-image>=0.11.0->imgaug) (2.6.3)\n",
            "Requirement already satisfied: PyWavelets>=1.1.1 in /usr/local/lib/python3.7/dist-packages (from scikit-image>=0.11.0->imgaug) (1.3.0)\n",
            "Requirement already satisfied: tifffile>=2019.7.26 in /usr/local/lib/python3.7/dist-packages (from scikit-image>=0.11.0->imgaug) (2021.11.2)\n",
            "Requirement already satisfied: pyparsing!=2.0.4,!=2.1.2,!=2.1.6,>=2.0.1 in /usr/local/lib/python3.7/dist-packages (from matplotlib->imgaug) (3.0.8)\n",
            "Requirement already satisfied: kiwisolver>=1.0.1 in /usr/local/lib/python3.7/dist-packages (from matplotlib->imgaug) (1.4.2)\n",
            "Requirement already satisfied: cycler>=0.10 in /usr/local/lib/python3.7/dist-packages (from matplotlib->imgaug) (0.11.0)\n",
            "Requirement already satisfied: python-dateutil>=2.1 in /usr/local/lib/python3.7/dist-packages (from matplotlib->imgaug) (2.8.2)\n",
            "Requirement already satisfied: typing-extensions in /usr/local/lib/python3.7/dist-packages (from kiwisolver>=1.0.1->matplotlib->imgaug) (4.2.0)\n"
          ]
        }
      ],
      "source": [
        "from google.colab import drive\n",
        "import os\n",
        "drive.mount('/content/drive')\n",
        "\n",
        "##出現提示欄進行授權\n",
        "\n",
        "os.chdir('/content/drive/My Drive/ML2/HW9/') #切換該目錄\n",
        "print(os.listdir()) #確認目錄內容\n",
        "\n",
        "# set up environment\n",
        "!pip install pytorchcv\n",
        "!pip install imgaug\n",
        "\n",
        "# # download\n",
        "# !wget https://github.com/DanielLin94144/ML-attack-dataset/files/8167812/data.zip\n",
        "\n",
        "# # unzip\n",
        "# !unzip ./data.zip\n",
        "# !rm ./data.zip"
      ]
    },
    {
      "cell_type": "code",
      "source": [
        "import torch\n",
        "import torch.nn as nn\n",
        "\n",
        "device = torch.device('cuda' if torch.cuda.is_available() else 'cpu')\n",
        "batch_size = 8"
      ],
      "metadata": {
        "id": "5inbFx_alYjw"
      },
      "execution_count": null,
      "outputs": []
    },
    {
      "cell_type": "markdown",
      "metadata": {
        "id": "hkQQf0l1hbBs"
      },
      "source": [
        "## Global Settings \n",
        "#### **[NOTE]**: Don't change the settings here, or your generated image might not meet the constraint.\n",
        "* $\\epsilon$ is fixed to be 8. But on **Data section**, we will first apply transforms on raw pixel value (0-255 scale) **by ToTensor (to 0-1 scale)** and then **Normalize (subtract mean divide std)**. $\\epsilon$ should be set to $\\frac{8}{255 * std}$ during attack.\n",
        "\n",
        "* Explaination (optional)\n",
        "    * Denote the first pixel of original image as $p$, and the first pixel of adversarial image as $a$.\n",
        "    * The $\\epsilon$ constraints tell us $\\left| p-a \\right| <= 8$.\n",
        "    * ToTensor() can be seen as a function where $T(x) = x/255$.\n",
        "    * Normalize() can be seen as a function where $N(x) = (x-mean)/std$ where $mean$ and $std$ are constants.\n",
        "    * After applying ToTensor() and Normalize() on $p$ and $a$, the constraint becomes $\\left| N(T(p))-N(T(a)) \\right| = \\left| \\frac{\\frac{p}{255}-mean}{std}-\\frac{\\frac{a}{255}-mean}{std} \\right| = \\frac{1}{255 * std} \\left| p-a \\right| <= \\frac{8}{255 * std}.$\n",
        "    * So, we should set $\\epsilon$ to be $\\frac{8}{255 * std}$ after ToTensor() and Normalize()."
      ]
    },
    {
      "cell_type": "code",
      "execution_count": null,
      "metadata": {
        "id": "ACghc_tsg2vE"
      },
      "outputs": [],
      "source": [
        "# the mean and std are the calculated statistics from cifar_10 dataset\n",
        "cifar_10_mean = (0.491, 0.482, 0.447) # mean for the three channels of cifar_10 images\n",
        "cifar_10_std = (0.202, 0.199, 0.201) # std for the three channels of cifar_10 images\n",
        "\n",
        "# convert mean and std to 3-dimensional tensors for future operations\n",
        "mean = torch.tensor(cifar_10_mean).to(device).view(3, 1, 1)\n",
        "std = torch.tensor(cifar_10_std).to(device).view(3, 1, 1)\n",
        "\n",
        "epsilon = 8/255/std"
      ]
    },
    {
      "cell_type": "code",
      "source": [
        "root = './data' # directory for storing benign images\n",
        "# benign images: images which do not contain adversarial perturbations\n",
        "# adversarial images: images which include adversarial perturbations"
      ],
      "metadata": {
        "id": "uO8f0NmtlM63"
      },
      "execution_count": null,
      "outputs": []
    },
    {
      "cell_type": "markdown",
      "metadata": {
        "id": "lhBJBAlKherZ"
      },
      "source": [
        "## Data\n",
        "\n",
        "Construct dataset and dataloader from root directory. Note that we store the filename of each image for future usage."
      ]
    },
    {
      "cell_type": "code",
      "execution_count": null,
      "metadata": {
        "colab": {
          "base_uri": "https://localhost:8080/"
        },
        "id": "VXpRAHz0hkDt",
        "outputId": "646a1af2-f39b-4d7c-ba2d-e557e9652d7e"
      },
      "outputs": [
        {
          "output_type": "stream",
          "name": "stdout",
          "text": [
            "number of images = 200\n"
          ]
        }
      ],
      "source": [
        "import os\n",
        "import glob\n",
        "import shutil\n",
        "import numpy as np\n",
        "from PIL import Image\n",
        "from torchvision.transforms import transforms\n",
        "from torch.utils.data import Dataset, DataLoader\n",
        "import random\n",
        "transform = transforms.Compose([                                                     \n",
        "    transforms.ToTensor(),\n",
        "    transforms.Normalize(cifar_10_mean, cifar_10_std)\n",
        "])\n",
        "\n",
        "class AdvDataset(Dataset):\n",
        "    def __init__(self, data_dir, transform):\n",
        "        self.images = []\n",
        "        self.labels = []\n",
        "        self.names = []\n",
        "        '''\n",
        "        data_dir\n",
        "        ├── class_dir\n",
        "        │   ├── class1.png\n",
        "        │   ├── ...\n",
        "        │   ├── class20.png\n",
        "        '''\n",
        "        for i, class_dir in enumerate(sorted(glob.glob(f'{data_dir}/*'))):\n",
        "            images = sorted(glob.glob(f'{class_dir}/*'))\n",
        "            self.images += images\n",
        "            self.labels += ([i] * len(images))\n",
        "            self.names += [os.path.relpath(imgs, data_dir) for imgs in images]\n",
        "        self.transform = transform\n",
        "    def __getitem__(self, idx):\n",
        "        image = self.transform(Image.open(self.images[idx]))\n",
        "        label = self.labels[idx]\n",
        "        return image, label\n",
        "    def __getname__(self):\n",
        "        return self.names\n",
        "    def __len__(self):\n",
        "        return len(self.images)\n",
        "\n",
        "adv_set = AdvDataset(root, transform=transform)\n",
        "adv_names = adv_set.__getname__()\n",
        "adv_loader = DataLoader(adv_set, batch_size=batch_size, shuffle=False)\n",
        "\n",
        "print(f'number of images = {adv_set.__len__()}')"
      ]
    },
    {
      "cell_type": "markdown",
      "metadata": {
        "id": "LnszlTsYrTQZ"
      },
      "source": [
        "## Utils -- Benign Images Evaluation"
      ]
    },
    {
      "cell_type": "code",
      "execution_count": null,
      "metadata": {
        "id": "5c_zZLzkrceE"
      },
      "outputs": [],
      "source": [
        "# to evaluate the performance of model on benign images\n",
        "def epoch_benign(model, loader, loss_fn):\n",
        "    model.eval()\n",
        "    train_acc, train_loss = 0.0, 0.0\n",
        "    for x, y in loader:\n",
        "        x, y = x.to(device), y.to(device)\n",
        "        yp = model(x)\n",
        "        loss = loss_fn(yp, y)\n",
        "        train_acc += (yp.argmax(dim=1) == y).sum().item()\n",
        "        train_loss += loss.item() * x.shape[0]\n",
        "    return train_acc / len(loader.dataset), train_loss / len(loader.dataset)"
      ]
    },
    {
      "cell_type": "markdown",
      "metadata": {
        "id": "_YJxK7YehqQy"
      },
      "source": [
        "## Utils -- Attack Algorithm"
      ]
    },
    {
      "cell_type": "code",
      "execution_count": null,
      "metadata": {
        "id": "F_1wKfKyhrQW"
      },
      "outputs": [],
      "source": [
        "#Data augmentation\n",
        "from torch.nn import functional as F\n",
        "import random\n",
        "from PIL import Image, ImageFilter\n",
        "\n",
        "def input_diversity(x):\n",
        "    resize_rate = 0.95\n",
        "    diversity_prob = 0.4\n",
        "    # blurrer = transforms.GaussianBlur(kernel_size=(5, 9), sigma=(0.1, 5))\n",
        "    # x = blurrer(x)\n",
        "    img_size = x.shape[-1]\n",
        "    img_resize = int(img_size * resize_rate)\n",
        "\n",
        "    if resize_rate < 1:\n",
        "        img_size = img_resize\n",
        "        img_resize = x.shape[-1]\n",
        "\n",
        "    rnd = torch.randint(low=img_size, high=img_resize, size=(1,), dtype=torch.int32)\n",
        "    rescaled = F.interpolate(x, size=[rnd, rnd], mode='bilinear', align_corners=False)\n",
        "    h_rem = img_resize - rnd\n",
        "    w_rem = img_resize - rnd\n",
        "    pad_top = torch.randint(low=0, high=h_rem.item(), size=(1,), dtype=torch.int32)\n",
        "    pad_bottom = h_rem - pad_top\n",
        "    pad_left = torch.randint(low=0, high=w_rem.item(), size=(1,), dtype=torch.int32)\n",
        "    pad_right = w_rem - pad_left\n",
        "\n",
        "    padded = F.pad(rescaled, [pad_left.item(), pad_right.item(), pad_top.item(), pad_bottom.item()], value=0)\n",
        "\n",
        "    return padded if torch.rand(1) < diversity_prob else x\n",
        "\n",
        "\n",
        "\n",
        "# perform fgsm attack\n",
        "def fgsm(model, x, y, loss_fn, epsilon=epsilon):\n",
        "    x_adv = x.detach().clone() # initialize x_adv as original benign image x\n",
        "    x_adv.requires_grad = True # need to obtain gradient of x_adv, thus set required grad\n",
        "    loss = loss_fn(model(x_adv), y) # calculate loss\n",
        "    loss.backward() # calculate gradient\n",
        "    # fgsm: use gradient ascent on x_adv to maximize loss\n",
        "    grad = x_adv.grad.detach()\n",
        "    x_adv = x_adv + epsilon * grad.sign()\n",
        "    return x_adv\n",
        "\n",
        "# alpha and num_iter can be decided by yourself\n",
        "alpha = 0.8/255/std #iteration = 10\n",
        "# alpha = 0.4/255/std #iteration = 20\n",
        "def ifgsm(model, x, y, loss_fn, epsilon=epsilon, alpha=alpha, num_iter=20):\n",
        "    x_adv = x\n",
        "    # write a loop of num_iter to represent the iterative times\n",
        "    for i in range(num_iter):\n",
        "        # x_adv = fgsm(model, x_adv, y, loss_fn, alpha) # call fgsm with (epsilon = alpha) to obtain new x_adv\n",
        "        x_adv = x_adv.detach().clone()\n",
        "        x_adv.requires_grad = True # need to obtain gradient of x_adv, thus set required grad\n",
        "        loss = loss_fn(model(x_adv), y) # calculate loss\n",
        "        loss.backward() # calculate gradient\n",
        "        # fgsm: use gradient ascent on x_adv to maximize loss\n",
        "        grad = x_adv.grad.detach()\n",
        "        x_adv = x_adv + alpha * grad.sign()\n",
        "\n",
        "        x_adv = torch.max(torch.min(x_adv, x+epsilon), x-epsilon) # clip new x_adv back to [x-epsilon, x+epsilon]\n",
        "    return x_adv\n",
        "\n",
        "mu = 1.0\n",
        "def mifgsm(model, x, y, loss_fn, epsilon=epsilon, alpha=alpha, num_iter=40, decay=1):\n",
        "    x_adv = x\n",
        "    # initialze momentum tensor\n",
        "    momentum = torch.zeros_like(x).detach().to(device)\n",
        "    # write a loop of num_iter to represent the iterative times\n",
        "    grad = None\n",
        "    for i in range(num_iter):\n",
        "        x_adv = x_adv.detach().clone()\n",
        "        x_adv.requires_grad = True # need to obtain gradient of x_adv, thus set required grad\n",
        "        loss = loss_fn(model(input_diversity(x_adv)), y) # calculate loss\n",
        "        loss.backward() # calculate gradient\n",
        "        # TODO: Momentum calculation\n",
        "        # grad = .....\n",
        "        x_grad = x_adv.grad.detach()\n",
        "        # norm = torch.mean(torch.abs(x_grad).view((x_grad.shape[0], -1)), dim=1).view((-1, 1, 1, 1))\n",
        "        norm = x_grad.abs().mean(dim=(1, 2, 3), keepdim=True)\n",
        "        # norm.clamp_(min=1e-12)\n",
        "        x_grad /= norm\n",
        "        grad = x_grad if grad is None else mu * grad + x_grad\n",
        "\n",
        "        # update x_adv\n",
        "        x_adv = x_adv + alpha * grad.sign()\n",
        "        x_adv = torch.max(torch.min(x_adv, x+epsilon), x-epsilon) # clip new x_adv back to [x-epsilon, x+epsilon]\n",
        "        # x_adv.clamp_(0, 1)\n",
        "    return x_adv"
      ]
    },
    {
      "cell_type": "markdown",
      "metadata": {
        "id": "fYCEQwmcrmH6"
      },
      "source": [
        "## Utils -- Attack\n",
        "* Recall\n",
        "  * ToTensor() can be seen as a function where $T(x) = x/255$.\n",
        "  * Normalize() can be seen as a function where $N(x) = (x-mean)/std$ where $mean$ and $std$ are constants.\n",
        "\n",
        "* Inverse function\n",
        "  * Inverse Normalize() can be seen as a function where $N^{-1}(x) = x*std+mean$ where $mean$ and $std$ are constants.\n",
        "  * Inverse ToTensor() can be seen as a function where $T^{-1}(x) = x*255$.\n",
        "\n",
        "* Special Noted\n",
        "  * ToTensor() will also convert the image from shape (height, width, channel) to shape (channel, height, width), so we also need to transpose the shape back to original shape.\n",
        "  * Since our dataloader samples a batch of data, what we need here is to transpose **(batch_size, channel, height, width)** back to **(batch_size, height, width, channel)** using np.transpose."
      ]
    },
    {
      "cell_type": "code",
      "execution_count": null,
      "metadata": {
        "id": "w5X_9x-7ro_w"
      },
      "outputs": [],
      "source": [
        "# perform adversarial attack and generate adversarial examples\n",
        "def gen_adv_examples(model, loader, attack, loss_fn):\n",
        "    model.eval()\n",
        "    adv_names = []\n",
        "    train_acc, train_loss = 0.0, 0.0\n",
        "    for i, (x, y) in enumerate(loader):\n",
        "        x, y = x.to(device), y.to(device)\n",
        "        x_adv = attack(model, x, y, loss_fn) # obtain adversarial examples\n",
        "        yp = model(x_adv)\n",
        "        loss = loss_fn(yp, y)\n",
        "        train_acc += (yp.argmax(dim=1) == y).sum().item()\n",
        "        train_loss += loss.item() * x.shape[0]\n",
        "        # store adversarial examples\n",
        "        adv_ex = ((x_adv) * std + mean).clamp(0, 1) # to 0-1 scale\n",
        "        adv_ex = (adv_ex * 255).clamp(0, 255) # 0-255 scale\n",
        "        adv_ex = adv_ex.detach().cpu().data.numpy().round() # round to remove decimal part\n",
        "        adv_ex = adv_ex.transpose((0, 2, 3, 1)) # transpose (bs, C, H, W) back to (bs, H, W, C)\n",
        "        adv_examples = adv_ex if i == 0 else np.r_[adv_examples, adv_ex]\n",
        "    return adv_examples, train_acc / len(loader.dataset), train_loss / len(loader.dataset)\n",
        "\n",
        "# create directory which stores adversarial examples\n",
        "def create_dir(data_dir, adv_dir, adv_examples, adv_names):\n",
        "    if os.path.exists(adv_dir) is not True:\n",
        "        _ = shutil.copytree(data_dir, adv_dir)\n",
        "    for example, name in zip(adv_examples, adv_names):\n",
        "        im = Image.fromarray(example.astype(np.uint8)) # image pixel value should be unsigned int\n",
        "        im.save(os.path.join(adv_dir, name))"
      ]
    },
    {
      "cell_type": "markdown",
      "metadata": {
        "id": "r_pMkmPytX3k"
      },
      "source": [
        "## Model / Loss Function\n",
        "\n",
        "Model list is available [here](https://github.com/osmr/imgclsmob/blob/master/pytorch/pytorchcv/model_provider.py). Please select models which has _cifar10 suffix. Some of the models cannot be accessed/loaded. You can safely skip them since TA's model will not use those kinds of models."
      ]
    },
    {
      "cell_type": "code",
      "execution_count": null,
      "metadata": {
        "id": "jwto8xbPtYzQ",
        "colab": {
          "base_uri": "https://localhost:8080/"
        },
        "outputId": "eea17878-323c-4348-8051-8142e0abfe89"
      },
      "outputs": [
        {
          "output_type": "stream",
          "name": "stdout",
          "text": [
            "benign_acc = 0.95000, benign_loss = 0.22678\n"
          ]
        }
      ],
      "source": [
        "from pytorchcv.model_provider import get_model as ptcv_get_model\n",
        "\n",
        "model = ptcv_get_model('resnet110_cifar10', pretrained=True).to(device)\n",
        "loss_fn = nn.CrossEntropyLoss()\n",
        "\n",
        "benign_acc, benign_loss = epoch_benign(model, adv_loader, loss_fn)\n",
        "print(f'benign_acc = {benign_acc:.5f}, benign_loss = {benign_loss:.5f}')"
      ]
    },
    {
      "cell_type": "markdown",
      "metadata": {
        "id": "uslb7GPchtMI"
      },
      "source": [
        "## FGSM"
      ]
    },
    {
      "cell_type": "code",
      "execution_count": null,
      "metadata": {
        "colab": {
          "base_uri": "https://localhost:8080/"
        },
        "id": "wQwPTVUIhuTS",
        "outputId": "13f5b539-67a5-4828-f3e4-44e1896a43be"
      },
      "outputs": [
        {
          "output_type": "stream",
          "name": "stdout",
          "text": [
            "fgsm_acc = 0.59000, fgsm_loss = 2.49272\n"
          ]
        }
      ],
      "source": [
        "adv_examples, fgsm_acc, fgsm_loss = gen_adv_examples(model, adv_loader, fgsm, loss_fn)\n",
        "print(f'fgsm_acc = {fgsm_acc:.5f}, fgsm_loss = {fgsm_loss:.5f}')\n",
        "\n",
        "create_dir(root, 'fgsm', adv_examples, adv_names)"
      ]
    },
    {
      "cell_type": "markdown",
      "metadata": {
        "id": "WXw6p0A6shZm"
      },
      "source": [
        "## I-FGSM"
      ]
    },
    {
      "cell_type": "code",
      "execution_count": null,
      "metadata": {
        "colab": {
          "base_uri": "https://localhost:8080/"
        },
        "id": "fUEsT06Iskt2",
        "outputId": "2945fbb2-b928-4ade-b9a9-c35c3d5f5352"
      },
      "outputs": [
        {
          "output_type": "stream",
          "name": "stdout",
          "text": [
            "ifgsm_acc = 0.01000, ifgsm_loss = 17.61704\n"
          ]
        }
      ],
      "source": [
        "adv_examples, ifgsm_acc, ifgsm_loss = gen_adv_examples(model, adv_loader, ifgsm, loss_fn)\n",
        "print(f'ifgsm_acc = {ifgsm_acc:.5f}, ifgsm_loss = {ifgsm_loss:.5f}')\n",
        "\n",
        "create_dir(root, 'ifgsm', adv_examples, adv_names)"
      ]
    },
    {
      "cell_type": "code",
      "source": [
        "adv_examples, mifgsm_acc, mifgsm_loss = gen_adv_examples(model, adv_loader, mifgsm, loss_fn)\n",
        "print(f'mifgsm_acc = {mifgsm_acc:.5f}, mifgsm_loss = {mifgsm_loss:.5f}')\n",
        "\n",
        "create_dir(root, 'mifgsm', adv_examples, adv_names)\n"
      ],
      "metadata": {
        "colab": {
          "base_uri": "https://localhost:8080/"
        },
        "id": "bfP-CtvUAj0L",
        "outputId": "2e5c172a-244d-4bde-aaf7-6d815ac55538"
      },
      "execution_count": null,
      "outputs": [
        {
          "output_type": "stream",
          "name": "stdout",
          "text": [
            "mifgsm_acc = 0.05500, mifgsm_loss = 8.36750\n"
          ]
        }
      ]
    },
    {
      "cell_type": "markdown",
      "metadata": {
        "id": "DQ-nYkkYexEE"
      },
      "source": [
        "## Compress the images\n",
        "* Submit the .tgz file to [JudgeBoi](https://ml.ee.ntu.edu.tw/hw10/)"
      ]
    },
    {
      "cell_type": "code",
      "execution_count": null,
      "metadata": {
        "colab": {
          "base_uri": "https://localhost:8080/"
        },
        "id": "ItRo_S0M264N",
        "outputId": "550db25c-913f-4990-aa34-5e6c9f219df2"
      },
      "outputs": [
        {
          "output_type": "stream",
          "name": "stdout",
          "text": [
            "['ifgsm', 'fgsm', 'data', 'ifgsm_0.2', 'ifgsm_0.2.tgz', 'ifgsm.tgz', 'mifgsm_0.13.tgz', 'mifgsm_0.13', 'DI-mifgsm_0.11.tgz', 'DI-mifgsm_0.11', 'DI_mifgsm_0.07.tgz', 'mifgsm', 'mifgsm.tgz']\n",
            "/content/drive/My Drive/ML2/HW9/mifgsm\n",
            "airplane/\n",
            "airplane/airplane10.png\n",
            "airplane/airplane15.png\n",
            "airplane/airplane11.png\n",
            "airplane/airplane13.png\n",
            "airplane/airplane9.png\n",
            "airplane/airplane18.png\n",
            "airplane/airplane17.png\n",
            "airplane/airplane7.png\n",
            "airplane/airplane3.png\n",
            "airplane/airplane12.png\n",
            "airplane/airplane4.png\n",
            "airplane/airplane19.png\n",
            "airplane/airplane20.png\n",
            "airplane/airplane14.png\n",
            "airplane/airplane5.png\n",
            "airplane/airplane8.png\n",
            "airplane/airplane6.png\n",
            "airplane/airplane16.png\n",
            "airplane/airplane1.png\n",
            "airplane/airplane2.png\n",
            "automobile/\n",
            "automobile/automobile2.png\n",
            "automobile/automobile17.png\n",
            "automobile/automobile9.png\n",
            "automobile/automobile13.png\n",
            "automobile/automobile8.png\n",
            "automobile/automobile10.png\n",
            "automobile/automobile20.png\n",
            "automobile/automobile15.png\n",
            "automobile/automobile3.png\n",
            "automobile/automobile4.png\n",
            "automobile/automobile11.png\n",
            "automobile/automobile7.png\n",
            "automobile/automobile6.png\n",
            "automobile/automobile5.png\n",
            "automobile/automobile18.png\n",
            "automobile/automobile12.png\n",
            "automobile/automobile1.png\n",
            "automobile/automobile16.png\n",
            "automobile/automobile19.png\n",
            "automobile/automobile14.png\n",
            "bird/\n",
            "bird/bird12.png\n",
            "bird/bird11.png\n",
            "bird/bird16.png\n",
            "bird/bird8.png\n",
            "bird/bird15.png\n",
            "bird/bird7.png\n",
            "bird/bird9.png\n",
            "bird/bird18.png\n",
            "bird/bird14.png\n",
            "bird/bird3.png\n",
            "bird/bird20.png\n",
            "bird/bird13.png\n",
            "bird/bird1.png\n",
            "bird/bird4.png\n",
            "bird/bird5.png\n",
            "bird/bird19.png\n",
            "bird/bird17.png\n",
            "bird/bird6.png\n",
            "bird/bird10.png\n",
            "bird/bird2.png\n",
            "cat/\n",
            "cat/cat10.png\n",
            "cat/cat11.png\n",
            "cat/cat2.png\n",
            "cat/cat5.png\n",
            "cat/cat18.png\n",
            "cat/cat13.png\n",
            "cat/cat4.png\n",
            "cat/cat7.png\n",
            "cat/cat1.png\n",
            "cat/cat17.png\n",
            "cat/cat15.png\n",
            "cat/cat9.png\n",
            "cat/cat14.png\n",
            "cat/cat3.png\n",
            "cat/cat19.png\n",
            "cat/cat12.png\n",
            "cat/cat8.png\n",
            "cat/cat16.png\n",
            "cat/cat20.png\n",
            "cat/cat6.png\n",
            "deer/\n",
            "deer/deer5.png\n",
            "deer/deer10.png\n",
            "deer/deer4.png\n",
            "deer/deer6.png\n",
            "deer/deer13.png\n",
            "deer/deer15.png\n",
            "deer/deer8.png\n",
            "deer/deer20.png\n",
            "deer/deer11.png\n",
            "deer/deer7.png\n",
            "deer/deer16.png\n",
            "deer/deer9.png\n",
            "deer/deer3.png\n",
            "deer/deer12.png\n",
            "deer/deer17.png\n",
            "deer/deer19.png\n",
            "deer/deer1.png\n",
            "deer/deer18.png\n",
            "deer/deer14.png\n",
            "deer/deer2.png\n",
            "dog/\n",
            "dog/dog12.png\n",
            "dog/dog5.png\n",
            "dog/dog8.png\n",
            "dog/dog11.png\n",
            "dog/dog9.png\n",
            "dog/dog2.png\n",
            "dog/dog19.png\n",
            "dog/dog15.png\n",
            "dog/dog4.png\n",
            "dog/dog20.png\n",
            "dog/dog16.png\n",
            "dog/dog7.png\n",
            "dog/dog10.png\n",
            "dog/dog14.png\n",
            "dog/dog1.png\n",
            "dog/dog3.png\n",
            "dog/dog17.png\n",
            "dog/dog18.png\n",
            "dog/dog13.png\n",
            "dog/dog6.png\n",
            "frog/\n",
            "frog/frog20.png\n",
            "frog/frog4.png\n",
            "frog/frog17.png\n",
            "frog/frog15.png\n",
            "frog/frog8.png\n",
            "frog/frog5.png\n",
            "frog/frog1.png\n",
            "frog/frog19.png\n",
            "frog/frog3.png\n",
            "frog/frog16.png\n",
            "frog/frog14.png\n",
            "frog/frog12.png\n",
            "frog/frog2.png\n",
            "frog/frog18.png\n",
            "frog/frog10.png\n",
            "frog/frog7.png\n",
            "frog/frog6.png\n",
            "frog/frog9.png\n",
            "frog/frog11.png\n",
            "frog/frog13.png\n",
            "horse/\n",
            "horse/horse1.png\n",
            "horse/horse11.png\n",
            "horse/horse12.png\n",
            "horse/horse16.png\n",
            "horse/horse9.png\n",
            "horse/horse10.png\n",
            "horse/horse5.png\n",
            "horse/horse6.png\n",
            "horse/horse3.png\n",
            "horse/horse19.png\n",
            "horse/horse2.png\n",
            "horse/horse17.png\n",
            "horse/horse14.png\n",
            "horse/horse4.png\n",
            "horse/horse7.png\n",
            "horse/horse18.png\n",
            "horse/horse8.png\n",
            "horse/horse20.png\n",
            "horse/horse15.png\n",
            "horse/horse13.png\n",
            "ship/\n",
            "ship/ship17.png\n",
            "ship/ship6.png\n",
            "ship/ship15.png\n",
            "ship/ship18.png\n",
            "ship/ship10.png\n",
            "ship/ship2.png\n",
            "ship/ship13.png\n",
            "ship/ship7.png\n",
            "ship/ship20.png\n",
            "ship/ship11.png\n",
            "ship/ship19.png\n",
            "ship/ship16.png\n",
            "ship/ship14.png\n",
            "ship/ship9.png\n",
            "ship/ship3.png\n",
            "ship/ship4.png\n",
            "ship/ship1.png\n",
            "ship/ship8.png\n",
            "ship/ship12.png\n",
            "ship/ship5.png\n",
            "truck/\n",
            "truck/truck9.png\n",
            "truck/truck13.png\n",
            "truck/truck2.png\n",
            "truck/truck15.png\n",
            "truck/truck1.png\n",
            "truck/truck11.png\n",
            "truck/truck4.png\n",
            "truck/truck7.png\n",
            "truck/truck18.png\n",
            "truck/truck8.png\n",
            "truck/truck16.png\n",
            "truck/truck3.png\n",
            "truck/truck12.png\n",
            "truck/truck5.png\n",
            "truck/truck17.png\n",
            "truck/truck10.png\n",
            "truck/truck19.png\n",
            "truck/truck20.png\n",
            "truck/truck6.png\n",
            "truck/truck14.png\n",
            "/content/drive/My Drive/ML2/HW9\n"
          ]
        }
      ],
      "source": [
        "# %cd fgsm\n",
        "# !tar zcvf ../fgsm.tgz *\n",
        "# %cd ..\n",
        "\n",
        "\n",
        "os.chdir('/content/drive/My Drive/ML2/HW9/') #切換該目錄\n",
        "print(os.listdir()) #確認目錄內容\n",
        "# %cd ifgsm\n",
        "# !tar zcvf ../ifgsm.tgz *\n",
        "# %cd ..\n",
        "\n",
        "%cd mifgsm\n",
        "!tar zcvf ../mifgsm.tgz *\n",
        "%cd .."
      ]
    },
    {
      "cell_type": "markdown",
      "source": [
        "## Example of Ensemble Attack\n",
        "* Ensemble multiple models as your proxy model to increase the black-box transferability ([paper](https://arxiv.org/abs/1611.02770))"
      ],
      "metadata": {
        "id": "WLZLbebigCA2"
      }
    },
    {
      "cell_type": "code",
      "source": [
        "class ensembleNet(nn.Module):\n",
        "    def __init__(self, model_names):\n",
        "        super().__init__()\n",
        "        self.models = nn.ModuleList([ptcv_get_model(name, pretrained=True) for name in model_names])\n",
        "        self.softmax = nn.Softmax(dim=1)\n",
        "    def forward(self, x):\n",
        "        logits = 0\n",
        "        for i, m in enumerate(self.models):\n",
        "        # TODO: sum up logits from multiple models  \n",
        "        # return ensemble_logits\n",
        "          logits += m(x)\n",
        "        return logits / len(model_names)\n",
        "\n",
        "        "
      ],
      "metadata": {
        "id": "gJcKiQNUgnPQ"
      },
      "execution_count": null,
      "outputs": []
    },
    {
      "cell_type": "markdown",
      "source": [
        "* Construct your ensemble model"
      ],
      "metadata": {
        "id": "yjfJwJKeeaR2"
      }
    },
    {
      "cell_type": "code",
      "source": [
        "# model_names = [\n",
        "#     'nin_cifar10',\n",
        "#     'resnet164bn_cifar10',\n",
        "#     'preresnet110_cifar10',\n",
        "#     'seresnet56_cifar10',\n",
        "#     'sepreresnet110_cifar10',\n",
        "#     'pyramidnet110_a84_cifar10',\n",
        "#     'densenet100_k12_bc_cifar10',\n",
        "#     'xdensenet40_2_k36_bc_cifar10',\n",
        "#     'wrn28_10_cifar10',\n",
        "#     'ror3_110_cifar10',\n",
        "#     'rir_cifar10',\n",
        "#     'shakeshakeresnet26_2x32d_cifar10',\n",
        "#     'diaresnet110_cifar10',\n",
        "#     'diapreresnet110_cifar10'\n",
        "# ]\n",
        "\n",
        "# model_names = [\n",
        "#     'resnet56_cifar10',\n",
        "#     'resnet110_cifar10',\n",
        "#     'resnet272bn_cifar10',\n",
        "#     'preresnet56_cifar10',\n",
        "#     'preresnet110_cifar10',\n",
        "#     'preresnet164bn_cifar10',\n",
        "#     'resnext29_32x4d_cifar10',\n",
        "#     'resnext29_16x64d_cifar10',\n",
        "#     'seresnet110_cifar10',\n",
        "#     'seresnet164bn_cifar10',\n",
        "#     'seresnet272bn_cifar10',\n",
        "#     'sepreresnet56_cifar10',\n",
        "#     'sepreresnet110_cifar10',\n",
        "#     'sepreresnet164bn_cifar10',\n",
        "#     'pyramidnet110_a48_cifar10',\n",
        "#     'pyramidnet110_a270_cifar10',\n",
        "#     'densenet100_k12_cifar10',\n",
        "#     'densenet100_k12_bc_cifar10'\n",
        "\n",
        "# ] #mifgsm_acc = 0.04500, mifgsm_loss = 11.21522 #0.07\n",
        "\n",
        "\n",
        "\n",
        "\n",
        "# model_names = [\n",
        "#     'resnet56_cifar10',\n",
        "#     'resnet110_cifar10',\n",
        "#     'resnet272bn_cifar10',\n",
        "#     'preresnet56_cifar10',\n",
        "#     'preresnet110_cifar10',\n",
        "#     'preresnet164bn_cifar10',\n",
        "#     'resnext29_32x4d_cifar10',\n",
        "#     'resnext29_16x64d_cifar10',\n",
        "#     'seresnet110_cifar10',\n",
        "#     'seresnet164bn_cifar10',\n",
        "#     'seresnet272bn_cifar10',\n",
        "#     'sepreresnet56_cifar10',\n",
        "#     'sepreresnet110_cifar10',\n",
        "#     'sepreresnet164bn_cifar10',\n",
        "#     'pyramidnet110_a48_cifar10',\n",
        "#     'pyramidnet110_a270_cifar10',\n",
        "#     'densenet100_k12_cifar10',\n",
        "#     'densenet100_k12_bc_cifar10',\n",
        "#     'diaresnet110_cifar10',\n",
        "#     'diaresnet164bn_cifar10',\n",
        "#     'diapreresnet110_cifar10',\n",
        "#     'diapreresnet164bn_cifar10'\n",
        "\n",
        "# ] # mifgsm_acc = 0.02000, mifgsm_loss = 12.62667\n",
        "\n",
        "\n",
        "model_names = ['resnext29_16x64d_cifar10','resnext29_32x4d_cifar10','preresnet56_cifar10','preresnet110_cifar10',\n",
        "        'preresnet164bn_cifar10','seresnet110_cifar10','sepreresnet56_cifar10','sepreresnet110_cifar10',\n",
        "        'diaresnet56_cifar10','resnet1001_cifar10','diapreresnet56_cifar10','resnet1202_cifar10',\n",
        "        'resnet56_cifar10','resnet110_cifar10','diapreresnet110_cifar10']\n",
        "\n",
        "# model_names = ['resnet56_cifar10',\n",
        "#         'resnet110_cifar10',\n",
        "#         'resnet272bn_cifar10',\n",
        "#         'resnet542bn_cifar10',\n",
        "#         'preresnet56_cifar10',\n",
        "#         'preresnet110_cifar10',\n",
        "#         'preresnet164bn_cifar10',\n",
        "#         'resnext29_32x4d_cifar10',\n",
        "#         'resnext29_16x64d_cifar10',\n",
        "#         'seresnet56_cifar10',\n",
        "#         'seresnet110_cifar10',\n",
        "#         'sepreresnet20_cifar10',\n",
        "#         'sepreresnet56_cifar10',\n",
        "#         'pyramidnet110_a48_cifar10',\n",
        "#         'pyramidnet110_a84_cifar10',\n",
        "#         'diaresnet56_cifar10',\n",
        "#         'diaresnet110_cifar10',\n",
        "#         'diapreresnet56_cifar10',\n",
        "#         'diapreresnet110_cifar10']\n",
        "\n",
        "# mifgsm_acc = 0.01000, mifgsm_loss = 11.54521\n",
        "\n",
        "ensemble_model = ensembleNet(model_names).to(device)\n",
        "# print(ensemble_model)\n",
        "ensemble_model.eval()\n",
        "benign_acc, benign_loss = epoch_benign(ensemble_model, adv_loader, loss_fn)\n",
        "print(f'benign_acc = {benign_acc:.5f}, benign_loss = {benign_loss:.5f}')"
      ],
      "metadata": {
        "id": "stYFytogeIzI",
        "colab": {
          "base_uri": "https://localhost:8080/"
        },
        "outputId": "ea4d59dd-ac20-45d6-fd15-882b7edc0254"
      },
      "execution_count": null,
      "outputs": [
        {
          "output_type": "stream",
          "name": "stdout",
          "text": [
            "benign_acc = 0.96000, benign_loss = 0.10345\n"
          ]
        }
      ]
    },
    {
      "cell_type": "code",
      "source": [
        "adv_examples, ifgsm_acc, ifgsm_loss = gen_adv_examples(ensemble_model, adv_loader, ifgsm, loss_fn)\n",
        "print(f'ifgsm_acc = {ifgsm_acc:.5f}, ifgsm_loss = {ifgsm_loss:.5f}')\n",
        "\n",
        "create_dir(root, 'ifgsm', adv_examples, adv_names)"
      ],
      "metadata": {
        "colab": {
          "base_uri": "https://localhost:8080/"
        },
        "id": "KWq0n0j2QMQa",
        "outputId": "b10229af-ce73-4dda-9996-f2e946289c42"
      },
      "execution_count": null,
      "outputs": [
        {
          "output_type": "stream",
          "name": "stdout",
          "text": [
            "ifgsm_acc = 0.00500, ifgsm_loss = 13.61029\n"
          ]
        }
      ]
    },
    {
      "cell_type": "code",
      "source": [
        "adv_examples, mifgsm_acc, mifgsm_loss = gen_adv_examples(ensemble_model, adv_loader, mifgsm, loss_fn)\n",
        "print(f'mifgsm_acc = {mifgsm_acc:.5f}, mifgsm_loss = {mifgsm_loss:.5f}')\n",
        "\n",
        "create_dir(root, 'mifgsm', adv_examples, adv_names)\n",
        "# mifgsm_acc = 0.04500, mifgsm_loss = 10.88571\n",
        "# mifgsm_acc = 0.01000, mifgsm_loss = 12.80502 epoch40 jgboard = 0.07"
      ],
      "metadata": {
        "colab": {
          "base_uri": "https://localhost:8080/"
        },
        "id": "2RyFyHnzQPqq",
        "outputId": "29653d86-b9ca-47af-cf39-75b48a5b6184"
      },
      "execution_count": null,
      "outputs": [
        {
          "output_type": "stream",
          "name": "stdout",
          "text": [
            "mifgsm_acc = 0.01000, mifgsm_loss = 11.91809\n"
          ]
        }
      ]
    },
    {
      "cell_type": "markdown",
      "metadata": {
        "id": "0FM_S886kFd8"
      },
      "source": [
        "## Visualization"
      ]
    },
    {
      "cell_type": "code",
      "execution_count": null,
      "metadata": {
        "colab": {
          "base_uri": "https://localhost:8080/",
          "height": 512
        },
        "id": "2FCuE2njkH1O",
        "outputId": "88adf923-4cae-41f3-eb47-36e4d3325292"
      },
      "outputs": [
        {
          "output_type": "error",
          "ename": "FileNotFoundError",
          "evalue": "ignored",
          "traceback": [
            "\u001b[0;31m---------------------------------------------------------------------------\u001b[0m",
            "\u001b[0;31mFileNotFoundError\u001b[0m                         Traceback (most recent call last)",
            "\u001b[0;32m<ipython-input-22-5d5b8cd7b95e>\u001b[0m in \u001b[0;36m<module>\u001b[0;34m()\u001b[0m\n\u001b[1;32m     20\u001b[0m     \u001b[0mcnt\u001b[0m \u001b[0;34m+=\u001b[0m \u001b[0;36m1\u001b[0m\u001b[0;34m\u001b[0m\u001b[0;34m\u001b[0m\u001b[0m\n\u001b[1;32m     21\u001b[0m     \u001b[0mplt\u001b[0m\u001b[0;34m.\u001b[0m\u001b[0msubplot\u001b[0m\u001b[0;34m(\u001b[0m\u001b[0mlen\u001b[0m\u001b[0;34m(\u001b[0m\u001b[0mclasses\u001b[0m\u001b[0;34m)\u001b[0m\u001b[0;34m,\u001b[0m \u001b[0;36m4\u001b[0m\u001b[0;34m,\u001b[0m \u001b[0mcnt\u001b[0m\u001b[0;34m)\u001b[0m\u001b[0;34m\u001b[0m\u001b[0;34m\u001b[0m\u001b[0m\n\u001b[0;32m---> 22\u001b[0;31m     \u001b[0mim\u001b[0m \u001b[0;34m=\u001b[0m \u001b[0mImage\u001b[0m\u001b[0;34m.\u001b[0m\u001b[0mopen\u001b[0m\u001b[0;34m(\u001b[0m\u001b[0;34mf'./fgsm/{path}'\u001b[0m\u001b[0;34m)\u001b[0m\u001b[0;34m\u001b[0m\u001b[0;34m\u001b[0m\u001b[0m\n\u001b[0m\u001b[1;32m     23\u001b[0m     \u001b[0mlogit\u001b[0m \u001b[0;34m=\u001b[0m \u001b[0mmodel\u001b[0m\u001b[0;34m(\u001b[0m\u001b[0mtransform\u001b[0m\u001b[0;34m(\u001b[0m\u001b[0mim\u001b[0m\u001b[0;34m)\u001b[0m\u001b[0;34m.\u001b[0m\u001b[0munsqueeze\u001b[0m\u001b[0;34m(\u001b[0m\u001b[0;36m0\u001b[0m\u001b[0;34m)\u001b[0m\u001b[0;34m.\u001b[0m\u001b[0mto\u001b[0m\u001b[0;34m(\u001b[0m\u001b[0mdevice\u001b[0m\u001b[0;34m)\u001b[0m\u001b[0;34m)\u001b[0m\u001b[0;34m[\u001b[0m\u001b[0;36m0\u001b[0m\u001b[0;34m]\u001b[0m\u001b[0;34m\u001b[0m\u001b[0;34m\u001b[0m\u001b[0m\n\u001b[1;32m     24\u001b[0m     \u001b[0mpredict\u001b[0m \u001b[0;34m=\u001b[0m \u001b[0mlogit\u001b[0m\u001b[0;34m.\u001b[0m\u001b[0margmax\u001b[0m\u001b[0;34m(\u001b[0m\u001b[0;34m-\u001b[0m\u001b[0;36m1\u001b[0m\u001b[0;34m)\u001b[0m\u001b[0;34m.\u001b[0m\u001b[0mitem\u001b[0m\u001b[0;34m(\u001b[0m\u001b[0;34m)\u001b[0m\u001b[0;34m\u001b[0m\u001b[0;34m\u001b[0m\u001b[0m\n",
            "\u001b[0;32m/usr/local/lib/python3.7/dist-packages/PIL/Image.py\u001b[0m in \u001b[0;36mopen\u001b[0;34m(fp, mode)\u001b[0m\n\u001b[1;32m   2841\u001b[0m \u001b[0;34m\u001b[0m\u001b[0m\n\u001b[1;32m   2842\u001b[0m     \u001b[0;32mif\u001b[0m \u001b[0mfilename\u001b[0m\u001b[0;34m:\u001b[0m\u001b[0;34m\u001b[0m\u001b[0;34m\u001b[0m\u001b[0m\n\u001b[0;32m-> 2843\u001b[0;31m         \u001b[0mfp\u001b[0m \u001b[0;34m=\u001b[0m \u001b[0mbuiltins\u001b[0m\u001b[0;34m.\u001b[0m\u001b[0mopen\u001b[0m\u001b[0;34m(\u001b[0m\u001b[0mfilename\u001b[0m\u001b[0;34m,\u001b[0m \u001b[0;34m\"rb\"\u001b[0m\u001b[0;34m)\u001b[0m\u001b[0;34m\u001b[0m\u001b[0;34m\u001b[0m\u001b[0m\n\u001b[0m\u001b[1;32m   2844\u001b[0m         \u001b[0mexclusive_fp\u001b[0m \u001b[0;34m=\u001b[0m \u001b[0;32mTrue\u001b[0m\u001b[0;34m\u001b[0m\u001b[0;34m\u001b[0m\u001b[0m\n\u001b[1;32m   2845\u001b[0m \u001b[0;34m\u001b[0m\u001b[0m\n",
            "\u001b[0;31mFileNotFoundError\u001b[0m: [Errno 2] No such file or directory: './fgsm/airplane/airplane1.png'"
          ]
        },
        {
          "output_type": "display_data",
          "data": {
            "text/plain": [
              "<Figure size 720x1440 with 2 Axes>"
            ],
            "image/png": "[encoded data removed]"
          },
          "metadata": {
            "needs_background": "light"
          }
        }
      ],
      "source": [
        "import matplotlib.pyplot as plt\n",
        "\n",
        "classes = ['airplane', 'automobile', 'bird', 'cat', 'deer', 'dog', 'frog', 'horse', 'ship', 'truck']\n",
        "\n",
        "plt.figure(figsize=(10, 20))\n",
        "cnt = 0\n",
        "for i, cls_name in enumerate(classes):\n",
        "    path = f'{cls_name}/{cls_name}1.png'\n",
        "    # benign image\n",
        "    cnt += 1\n",
        "    plt.subplot(len(classes), 4, cnt)\n",
        "    im = Image.open(f'./data/{path}')\n",
        "    logit = model(transform(im).unsqueeze(0).to(device))[0]\n",
        "    predict = logit.argmax(-1).item()\n",
        "    prob = logit.softmax(-1)[predict].item()\n",
        "    plt.title(f'benign: {cls_name}1.png\\n{classes[predict]}: {prob:.2%}')\n",
        "    plt.axis('off')\n",
        "    plt.imshow(np.array(im))\n",
        "    # adversarial image\n",
        "    cnt += 1\n",
        "    plt.subplot(len(classes), 4, cnt)\n",
        "    im = Image.open(f'./fgsm/{path}')\n",
        "    logit = model(transform(im).unsqueeze(0).to(device))[0]\n",
        "    predict = logit.argmax(-1).item()\n",
        "    prob = logit.softmax(-1)[predict].item()\n",
        "    plt.title(f'adversarial: {cls_name}1.png\\n{classes[predict]}: {prob:.2%}')\n",
        "    plt.axis('off')\n",
        "    plt.imshow(np.array(im))\n",
        "plt.tight_layout()\n",
        "plt.show()"
      ]
    },
    {
      "cell_type": "markdown",
      "source": [
        "## Report Question\n",
        "* Make sure you follow below setup: the source model is \"resnet110_cifar10\", applying the vanilla fgsm attack on `dog2.png`. You can find the perturbed image in `fgsm/dog2.png`."
      ],
      "metadata": {
        "id": "FUmKa02Vmp29"
      }
    },
    {
      "cell_type": "code",
      "execution_count": null,
      "metadata": {
        "id": "8NW8ntCKY3VY",
        "colab": {
          "base_uri": "https://localhost:8080/",
          "height": 577
        },
        "outputId": "eb7246ce-d8c1-4315-aacc-982a1a307213"
      },
      "outputs": [
        {
          "output_type": "display_data",
          "data": {
            "text/plain": [
              "<Figure size 432x288 with 1 Axes>"
            ],
            "image/png": "[encoded data removed]"
          },
          "metadata": {
            "needs_background": "light"
          }
        },
        {
          "output_type": "display_data",
          "data": {
            "text/plain": [
              "<Figure size 432x288 with 1 Axes>"
            ],
            "image/png": "[encoded data removed]"
          },
          "metadata": {
            "needs_background": "light"
          }
        }
      ],
      "source": [
        "# original image\n",
        "import matplotlib.pyplot as plt\n",
        "path = f'dog/dog2.png'\n",
        "im = Image.open(f'./data/{path}')\n",
        "logit = model(transform(im).unsqueeze(0).to(device))[0]\n",
        "predict = logit.argmax(-1).item()\n",
        "prob = logit.softmax(-1)[predict].item()\n",
        "plt.title(f'benign: dog2.png\\n{classes[predict]}: {prob:.2%}')\n",
        "plt.axis('off')\n",
        "plt.imshow(np.array(im))\n",
        "plt.tight_layout()\n",
        "plt.show()\n",
        "\n",
        "# adversarial image \n",
        "im = Image.open(f'./fgsm/{path}')\n",
        "logit = model(transform(im).unsqueeze(0).to(device))[0]\n",
        "predict = logit.argmax(-1).item()\n",
        "prob = logit.softmax(-1)[predict].item()\n",
        "plt.title(f'adversarial: dog2.png\\n{classes[predict]}: {prob:.2%}')\n",
        "plt.axis('off')\n",
        "plt.imshow(np.array(im))\n",
        "plt.tight_layout()\n",
        "plt.show()\n"
      ]
    },
    {
      "cell_type": "markdown",
      "source": [
        "## Passive Defense - JPEG compression\n",
        "JPEG compression by imgaug package, compression rate set to 70\n",
        "\n",
        "Reference: https://imgaug.readthedocs.io/en/latest/source/api_augmenters_arithmetic.html#imgaug.augmenters.arithmetic.JpegCompression"
      ],
      "metadata": {
        "id": "2AQkofrTnePa"
      }
    },
    {
      "cell_type": "code",
      "source": [
        "import imgaug.augmenters as iaa\n",
        "\n",
        "# pre-process image\n",
        "x = transforms.ToTensor()(im)*255\n",
        "x = x.permute(1, 2, 0).numpy()\n",
        "compressed_x = x.astype(np.uint8)\n",
        "\n",
        "# TODO: use \"imgaug\" package to perform JPEG compression (compression rate = 70)\n",
        "# compressed_x = ...\n",
        "aug = iaa.JpegCompression(compression=70)\n",
        "compressed_x = aug(images=compressed_x)\n",
        "\n",
        "logit = model(transform(compressed_x).unsqueeze(0).to(device))[0]\n",
        "predict = logit.argmax(-1).item()\n",
        "prob = logit.softmax(-1)[predict].item()\n",
        "plt.title(f'JPEG adversarial: dog2.png\\n{classes[predict]}: {prob:.2%}')\n",
        "plt.axis('off')\n",
        "\n",
        "\n",
        "plt.imshow(compressed_x)\n",
        "plt.tight_layout()\n",
        "plt.show()"
      ],
      "metadata": {
        "id": "sKuQaPp2mz7C",
        "colab": {
          "base_uri": "https://localhost:8080/",
          "height": 297
        },
        "outputId": "88e6769d-c598-4f92-ba87-37b05b3d4d04"
      },
      "execution_count": null,
      "outputs": [
        {
          "output_type": "display_data",
          "data": {
            "text/plain": [
              "<Figure size 432x288 with 1 Axes>"
            ],
            "image/png": "[encoded data removed]"
          },
          "metadata": {
            "needs_background": "light"
          }
        }
      ]
    }
  ],
  "metadata": {
    "accelerator": "GPU",
    "colab": {
      "collapsed_sections": [],
      "name": "「ML2022_hw10.ipynb」的副本",
      "provenance": []
    },
    "kernelspec": {
      "display_name": "Python 3",
      "name": "python3"
    }
  },
  "nbformat": 4,
  "nbformat_minor": 0
}